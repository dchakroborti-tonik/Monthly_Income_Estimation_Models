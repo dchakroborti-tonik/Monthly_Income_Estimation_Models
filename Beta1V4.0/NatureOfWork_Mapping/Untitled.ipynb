{
 "cells": [
  {
   "cell_type": "markdown",
   "id": "835b4955-8ccc-4b49-9374-8490ab3156b9",
   "metadata": {},
   "source": [
    "# Nature of Work Mapping for New Data Set"
   ]
  },
  {
   "cell_type": "code",
   "execution_count": 1,
   "id": "29039a3c-765a-41a6-9403-9520707d801d",
   "metadata": {
    "tags": []
   },
   "outputs": [],
   "source": [
    "import pandas as pd\n",
    "import numpy as np\n",
    "from google.cloud import storage\n",
    "from google.cloud import bigquery\n",
    "# Connection to Bigquery\n",
    "client = bigquery.Client(project='prj-prod-dataplatform')\n",
    "\n",
    "\n",
    "# Suppress warnings\n",
    "import warnings\n",
    "warnings.filterwarnings('ignore')\n",
    "\n",
    "# Settings in this Notebook\n",
    "pd.set_option(\"display.max_rows\", 1000)\n",
    "pd.set_option(\"display.max_columns\", None)\n"
   ]
  },
  {
   "cell_type": "code",
   "execution_count": 2,
   "id": "15d8bdbf-aa4d-40d2-a813-2861d6580367",
   "metadata": {
    "tags": []
   },
   "outputs": [
    {
     "name": "stdout",
     "output_type": "stream",
     "text": [
      "Job ID b6ce06d8-94a4-4236-9f01-4c67d77ae1f7 successfully executed: 100%|\u001b[32m██████████\u001b[0m|\n",
      "Downloading: 100%|\u001b[32m██████████\u001b[0m|\n"
     ]
    }
   ],
   "source": [
    "sq = \"\"\"with base as \n",
    "(select digitalLoanAccountId, nature_of_work, industry_description, employment_type, source_funds from `worktable_data_analysis.Demographic_Beta1_Jan2023_dec2024` lmt)\n",
    "select * from base; \"\"\"\n",
    "df = client.query(sq).to_dataframe(progress_bar_type = 'tqdm')"
   ]
  },
  {
   "cell_type": "code",
   "execution_count": 3,
   "id": "7ecb8af8-e089-4953-9659-50738020b791",
   "metadata": {
    "tags": []
   },
   "outputs": [
    {
     "data": {
      "text/plain": [
       "(1177784, 5)"
      ]
     },
     "execution_count": 3,
     "metadata": {},
     "output_type": "execute_result"
    }
   ],
   "source": [
    "df.shape"
   ]
  },
  {
   "cell_type": "code",
   "execution_count": 4,
   "id": "d69c12d6-7e98-4b0e-84ad-761d814b467c",
   "metadata": {
    "tags": []
   },
   "outputs": [
    {
     "data": {
      "text/plain": [
       "nature_of_work\n",
       "Accountant/Auditor                                              19005\n",
       "Admin/Clerical Staff/Officer                                    56980\n",
       "Architect/Interior Decorator                                     2855\n",
       "Bank Employee                                                   14844\n",
       "Broker/Dealer                                                    2485\n",
       "Call Center Agent/Tele Marketer                                115422\n",
       "Cashier/Food Server/Waiter                                      35256\n",
       "Consultant                                                       7058\n",
       "Court Personnel/Bailiff                                           121\n",
       "Debt Collection/Recovery Agents/ Collection Agency Employee      4163\n",
       "Doctor/Dentist/Medical Professional                             17432\n",
       "Engineer                                                        17085\n",
       "Entertainer/Artist                                               3292\n",
       "Farmer/Fisherman                                                 4967\n",
       "Fire Fighter                                                      295\n",
       "Foreign Ambassador/Diplomat                                        24\n",
       "Govt Employee                                                   47060\n",
       "IT Professional                                                 27881\n",
       "Insurance Agent/Financial Advisor                                3894\n",
       "Lawyer                                                            466\n",
       "Newscaster/Media Personality                                      418\n",
       "Other Non Professional Services                                 96727\n",
       "Other Professional services                                    116624\n",
       "Owner                                                           56222\n",
       "Pilot/Airline Crew                                                720\n",
       "Sales Marketing Professional                                    22980\n",
       "Sales/Marketing Personnel                                       43751\n",
       "Seafarer                                                         5388\n",
       "Store/Service Manager                                           16546\n",
       "Teacher/Instructor/Coach                                        28200\n",
       "Utility Personnel/Household Help                                21443\n",
       "Name: digitalLoanAccountId, dtype: int64"
      ]
     },
     "execution_count": 4,
     "metadata": {},
     "output_type": "execute_result"
    }
   ],
   "source": [
    "df.groupby(['nature_of_work'])['digitalLoanAccountId'].nunique()"
   ]
  },
  {
   "cell_type": "code",
   "execution_count": 5,
   "id": "461af657-ccfc-413a-9f80-4e4cc197aa0b",
   "metadata": {
    "tags": []
   },
   "outputs": [
    {
     "data": {
      "text/plain": [
       "nature_of_work                                               nature_of_work_new                                         \n",
       "Accountant/Auditor                                           Licensed Professional - Accountant                              19005\n",
       "Admin/Clerical Staff/Officer                                 missing                                                         56980\n",
       "Architect/Interior Decorator                                 Licensed Professional - Others                                   2855\n",
       "Bank Employee                                                missing                                                         14844\n",
       "Broker/Dealer                                                Broker/Dealer                                                    2485\n",
       "Call Center Agent/Tele Marketer                              missing                                                        115422\n",
       "Cashier/Food Server/Waiter                                   missing                                                         35256\n",
       "Consultant                                                   missing                                                          7058\n",
       "Court Personnel/Bailiff                                      Court Personnel/Bailiff                                           121\n",
       "Debt Collection/Recovery Agents/ Collection Agency Employee  Debt Collection/Recovery Agents/ Collection Agency Employee      4163\n",
       "Doctor/Dentist/Medical Professional                          Licensed Professional - Others                                  17432\n",
       "Engineer                                                     Licensed Professional - Others                                  17085\n",
       "Entertainer/Artist                                           missing                                                          3292\n",
       "Farmer/Fisherman                                             missing                                                          4967\n",
       "Fire Fighter                                                 Government - Uniformed Service                                    295\n",
       "Foreign Ambassador/Diplomat                                  missing                                                            24\n",
       "Govt Employee                                                Govt Employee                                                   47060\n",
       "IT Professional                                              missing                                                         27881\n",
       "Insurance Agent/Financial Advisor                            missing                                                          3894\n",
       "Lawyer                                                       Licensed Professional - Lawyer                                    466\n",
       "Newscaster/Media Personality                                 missing                                                           418\n",
       "Other Non Professional Services                              missing                                                         96727\n",
       "Other Professional services                                  Licensed Professional - Others                                 116624\n",
       "Owner                                                        Owner                                                           56222\n",
       "Pilot/Airline Crew                                           missing                                                           720\n",
       "Sales Marketing Professional                                 Sales/Marketing Personnel                                       22980\n",
       "Sales/Marketing Personnel                                    Sales/Marketing Personnel                                       43751\n",
       "Seafarer                                                     missing                                                          5388\n",
       "Store/Service Manager                                        Manager/Executive                                               16546\n",
       "Teacher/Instructor/Coach                                     missing                                                         28200\n",
       "Utility Personnel/Household Help                             missing                                                         21443\n",
       "Name: digitalLoanAccountId, dtype: int64"
      ]
     },
     "execution_count": 5,
     "metadata": {},
     "output_type": "execute_result"
    }
   ],
   "source": [
    "# Mapping dictionary\n",
    "mapping = {\n",
    "    'Admin/Clerical Staff/Officer': 'missing',\n",
    "    'Architect/Interior Decorator': 'Licensed Professional - Others',\n",
    "    'Bank Employee': 'missing',\n",
    "    'Broker/Dealer': 'Broker/Dealer',\n",
    "    'Call Center Agent/Tele Marketer': 'missing',\n",
    "    'Cashier/Food Server/Waiter': 'missing',\n",
    "    'Consultant': 'missing',\n",
    "    'Doctor/Dentist/Medical Professional': 'Licensed Professional - Others',\n",
    "    'Engineer': 'Licensed Professional - Others',\n",
    "    'Entertainer/Artist': 'missing',\n",
    "    'Foreign Ambassador/Diplomat': 'missing',\n",
    "    'Govt Employee': 'Govt Employee',\n",
    "    'Insurance Agent/Financial Advisor': 'missing',\n",
    "    'IT Professional': 'missing',\n",
    "    'Lawyer': 'Licensed Professional - Lawyer',\n",
    "    'Military/Armed Forces/Police/Navy/Airforce': 'Government - Uniformed Service',\n",
    "    'Newscaster/Media Personality': 'missing',\n",
    "    'Pilot/Airline Crew': 'missing',\n",
    "    'Seafarer': 'missing',\n",
    "    'Teacher/Instructor/Coach': 'missing',\n",
    "    'Utility Personnel/Household Help': 'missing',\n",
    "    'Accountant/Auditor': 'Licensed Professional - Accountant ',\n",
    "    'Utilities (Electricity, Gas and Water)': 'missing',\n",
    "    'Wholesale and Retail Trade': 'missing',\n",
    "    'Sales/Marketing Personnel': 'Sales/Marketing Personnel',\n",
    "    'Other Professional services': 'Licensed Professional - Others',\n",
    "    'Other Non Professional Services': 'missing',\n",
    "    'Owner': 'Owner',\n",
    "    'Religious Leader': 'Religious Leader',\n",
    "    'Fire Fighter': 'Government - Uniformed Service',\n",
    "    'Farmer/Fisherman': 'missing',\n",
    "    'Debt Collection/Recovery Agents/ Collection Agency Employee': 'Debt Collection/Recovery Agents/ Collection Agency Employee',\n",
    "    'Court Personnel/Bailiff': 'Court Personnel/Bailiff',\n",
    "    'Store/Service Manager': 'Manager/Executive',\n",
    "    'Sales Marketing Professional': 'Sales/Marketing Personnel',\n",
    "    'Barber / Beauty Salon': 'Sales/Marketing Personnel',\n",
    "    'Business Owner (MSME)': 'Owner',\n",
    "    'Delivery Rider/Driver': 'Delivery Rider/Driver',\n",
    "    'Manpower Agency': 'missing',\n",
    "    'Online Freelancing / Virtual Assistant / Online teacher': 'Virtual/Online/Remote Employee',\n",
    "    'Online Seller': 'Virtual/Online/Remote Employee',\n",
    "    'Real Estate agent': 'missing',\n",
    "    'Skilled Worker': 'Skilled Worker',\n",
    "    'Technician (Cellphone / Laptop)': 'missing',\n",
    "    'Vendor (Sari-Sari store, Wet market, etc)': 'missing',\n",
    "    'Staff/Rank and File': 'Staff/Rank and File',\n",
    "    'Officer/Supervisor ': 'Officer/Supervisor ',\n",
    "    'Manager/Executive': 'Manager/Executive',\n",
    "    'Licensed Professional - Lawyer': 'Licensed Professional - Lawyer',\n",
    "    'Licensed Professional - Accountant ': 'Licensed Professional - Accountant ',\n",
    "    'Licensed Professional - Others': 'Licensed Professional - Others',\n",
    "    'Religious Minister ': 'Religious Minister ',\n",
    "    'Government - Elected Official ': 'Government - Elected Official ',\n",
    "    'Government - Uniformed Service': 'Government - Uniformed Service',\n",
    "    'Director/Trustee/Stockholder': 'Director/Trustee/Stockholder',\n",
    "    'Virtual/Online/Remote Employee': 'Virtual/Online/Remote Employee',\n",
    "    'Government - Appointed Official': 'Government - Appointed Official'\n",
    "}\n",
    "\n",
    "# Apply the mapping\n",
    "df['nature_of_work_new'] = df['nature_of_work'].map(mapping)\n",
    "\n",
    "# Handle the special case for 'Govt Official (Appointed/Elected)'\n",
    "def assign_govt_official():\n",
    "    return np.random.choice(\n",
    "        ['Government - Appointed Official', 'Government - Elected Official'],\n",
    "        p=[0.9, 0.1]\n",
    "    )\n",
    "\n",
    "df.loc[df['nature_of_work'] == 'Govt Official (Appointed/Elected)', 'nature_of_work_new'] = df.loc[df['nature_of_work'] == 'Govt Official (Appointed/Elected)'].apply(lambda x: assign_govt_official(), axis=1)\n",
    "\n",
    "# Display the DataFrame\n",
    "df.groupby(['nature_of_work', 'nature_of_work_new'])['digitalLoanAccountId'].nunique()"
   ]
  },
  {
   "cell_type": "code",
   "execution_count": 6,
   "id": "98feb67f-14c9-4c8e-9239-381eec367e6b",
   "metadata": {
    "tags": []
   },
   "outputs": [
    {
     "data": {
      "text/plain": [
       "12"
      ]
     },
     "execution_count": 6,
     "metadata": {},
     "output_type": "execute_result"
    }
   ],
   "source": [
    "df['nature_of_work_new'].nunique()"
   ]
  },
  {
   "cell_type": "code",
   "execution_count": 7,
   "id": "be5aa014-f83d-4054-9cbf-931885bdd81c",
   "metadata": {
    "tags": []
   },
   "outputs": [],
   "source": [
    "# # Convert the 'nature_of_work' column to uppercase\n",
    "# df['nature_of_work'] = df['nature_of_work'].str.upper()\n",
    "\n",
    "# # Mapping dictionary (keys and values in uppercase)\n",
    "# mapping = {\n",
    "#     'ADMIN/CLERICAL STAFF/OFFICER': 'missing',\n",
    "#     'ARCHITECT/INTERIOR DECORATOR': 'LICENSED PROFESSIONAL - OTHERS',\n",
    "#     'BANK EMPLOYEE': 'missing',\n",
    "#     'BROKER/DEALER': 'BROKER/DEALER',\n",
    "#     'CALL CENTER AGENT/TELE MARKETER': 'missing',\n",
    "#     'CASHIER/FOOD SERVER/WAITER': 'missing',\n",
    "#     'CONSULTANT': 'missing',\n",
    "#     'DOCTOR/DENTIST/MEDICAL PROFESSIONAL': 'LICENSED PROFESSIONAL - OTHERS',\n",
    "#     'ENGINEER': 'LICENSED PROFESSIONAL - OTHERS',\n",
    "#     'ENTERTAINER/ARTIST': 'missing',\n",
    "#     'FOREIGN AMBASSADOR/DIPLOMAT': 'missing',\n",
    "#     'GOVT EMPLOYEE': 'GOVT EMPLOYEE',\n",
    "#     'INSURANCE AGENT/FINANCIAL ADVISOR': 'missing',\n",
    "#     'IT PROFESSIONAL': 'missing',\n",
    "#     'LAWYER': 'LICENSED PROFESSIONAL - LAWYER',\n",
    "#     'MILITARY/ARMED FORCES/POLICE/NAVY/AIRFORCE': 'GOVERNMENT - UNIFORMED SERVICE',\n",
    "#     'NEWSCASTER/MEDIA PERSONALITY': 'missing',\n",
    "#     'PILOT/AIRLINE CREW': 'missing',\n",
    "#     'SEAFARER': 'missing',\n",
    "#     'TEACHER/INSTRUCTOR/COACH': 'missing',\n",
    "#     'UTILITY PERSONNEL/HOUSEHOLD HELP': 'missing',\n",
    "#     'ACCOUNTANT/AUDITOR': 'LICENSED PROFESSIONAL - ACCOUNTANT ',\n",
    "#     'UTILITIES (ELECTRICITY, GAS AND WATER)': 'missing',\n",
    "#     'WHOLESALE AND RETAIL TRADE': 'missing',\n",
    "#     'SALES/MARKETING PERSONNEL': 'SALES/MARKETING PERSONNEL',\n",
    "#     'OTHER PROFESSIONAL SERVICES': 'LICENSED PROFESSIONAL - OTHERS',\n",
    "#     'OTHER NON PROFESSIONAL SERVICES': 'missing',\n",
    "#     'OWNER': 'OWNER',\n",
    "#     'RELIGIOUS LEADER': 'RELIGIOUS LEADER',\n",
    "#     'FIRE FIGHTER': 'GOVERNMENT - UNIFORMED SERVICE',\n",
    "#     'FARMER/FISHERMAN': 'missing',\n",
    "#     'DEBT COLLECTION/RECOVERY AGENTS/ COLLECTION AGENCY EMPLOYEE': 'DEBT COLLECTION/RECOVERY AGENTS/ COLLECTION AGENCY EMPLOYEE',\n",
    "#     'COURT PERSONNEL/BAILIFF': 'COURT PERSONNEL/BAILIFF',\n",
    "#     'STORE/SERVICE MANAGER': 'MANAGER/EXECUTIVE',\n",
    "#     'SALES MARKETING PROFESSIONAL': 'SALES/MARKETING PERSONNEL',\n",
    "#     'BARBER / BEAUTY SALON': 'SALES/MARKETING PERSONNEL',\n",
    "#     'BUSINESS OWNER (MSME)': 'OWNER',\n",
    "#     'DELIVERY RIDER/DRIVER': 'DELIVERY RIDER/DRIVER',\n",
    "#     'MANPOWER AGENCY': 'missing',\n",
    "#     'ONLINE FREELANCING / VIRTUAL ASSISTANT / ONLINE TEACHER': 'VIRTUAL/ONLINE/REMOTE EMPLOYEE',\n",
    "#     'ONLINE SELLER': 'VIRTUAL/ONLINE/REMOTE EMPLOYEE',\n",
    "#     'REAL ESTATE AGENT': 'missing',\n",
    "#     'SKILLED WORKER': 'SKILLED WORKER',\n",
    "#     'TECHNICIAN (CELLPHONE / LAPTOP)': 'missing',\n",
    "#     'VENDOR (SARI-SARI STORE, WET MARKET, ETC)': 'missing',\n",
    "#     'STAFF/RANK AND FILE': 'STAFF/RANK AND FILE',\n",
    "#     'OFFICER/SUPERVISOR ': 'OFFICER/SUPERVISOR ',\n",
    "#     'MANAGER/EXECUTIVE': 'MANAGER/EXECUTIVE',\n",
    "#     'LICENSED PROFESSIONAL - LAWYER': 'LICENSED PROFESSIONAL - LAWYER',\n",
    "#     'LICENSED PROFESSIONAL - ACCOUNTANT ': 'LICENSED PROFESSIONAL - ACCOUNTANT ',\n",
    "#     'LICENSED PROFESSIONAL - OTHERS': 'LICENSED PROFESSIONAL - OTHERS',\n",
    "#     'RELIGIOUS MINISTER ': 'RELIGIOUS MINISTER ',\n",
    "#     'GOVERNMENT - ELECTED OFFICIAL ': 'GOVERNMENT - ELECTED OFFICIAL ',\n",
    "#     'GOVERNMENT - UNIFORMED SERVICE': 'GOVERNMENT - UNIFORMED SERVICE',\n",
    "#     'DIRECTOR/TRUSTEE/STOCKHOLDER': 'DIRECTOR/TRUSTEE/STOCKHOLDER',\n",
    "#     'VIRTUAL/ONLINE/REMOTE EMPLOYEE': 'VIRTUAL/ONLINE/REMOTE EMPLOYEE',\n",
    "#     'GOVERNMENT - APPOINTED OFFICIAL': 'GOVERNMENT - APPOINTED OFFICIAL'\n",
    "# }\n",
    "\n",
    "# # Apply the mapping\n",
    "# df['nature_of_work_new'] = df['nature_of_work'].map(mapping)\n",
    "\n",
    "# # Handle the special case for 'GOVT OFFICIAL (APPOINTED/ELECTED)'\n",
    "# def assign_govt_official():\n",
    "#     return np.random.choice(\n",
    "#         ['GOVERNMENT - APPOINTED OFFICIAL', 'GOVERNMENT - ELECTED OFFICIAL'],\n",
    "#         p=[0.9, 0.1]\n",
    "#     )\n",
    "\n",
    "# df.loc[df['nature_of_work'] == 'GOVT OFFICIAL (APPOINTED/ELECTED)', 'nature_of_work_new'] = df.loc[df['nature_of_work'] == 'GOVT OFFICIAL (APPOINTED/ELECTED)'].apply(lambda x: assign_govt_official(), axis=1)\n",
    "\n",
    "# # Display the DataFrame\n",
    "# df.sample(20)"
   ]
  },
  {
   "cell_type": "code",
   "execution_count": 8,
   "id": "2456a6d3-23a5-4390-a0e7-163d585280cf",
   "metadata": {
    "tags": []
   },
   "outputs": [
    {
     "data": {
      "text/html": [
       "<div>\n",
       "<style scoped>\n",
       "    .dataframe tbody tr th:only-of-type {\n",
       "        vertical-align: middle;\n",
       "    }\n",
       "\n",
       "    .dataframe tbody tr th {\n",
       "        vertical-align: top;\n",
       "    }\n",
       "\n",
       "    .dataframe thead th {\n",
       "        text-align: right;\n",
       "    }\n",
       "</style>\n",
       "<table border=\"1\" class=\"dataframe\">\n",
       "  <thead>\n",
       "    <tr style=\"text-align: right;\">\n",
       "      <th></th>\n",
       "      <th>digitalLoanAccountId</th>\n",
       "      <th>nature_of_work</th>\n",
       "      <th>industry_description</th>\n",
       "      <th>employment_type</th>\n",
       "      <th>source_funds</th>\n",
       "      <th>nature_of_work_new</th>\n",
       "    </tr>\n",
       "  </thead>\n",
       "  <tbody>\n",
       "  </tbody>\n",
       "</table>\n",
       "</div>"
      ],
      "text/plain": [
       "Empty DataFrame\n",
       "Columns: [digitalLoanAccountId, nature_of_work, industry_description, employment_type, source_funds, nature_of_work_new]\n",
       "Index: []"
      ]
     },
     "execution_count": 8,
     "metadata": {},
     "output_type": "execute_result"
    }
   ],
   "source": [
    "df[df['nature_of_work']=='GOVT OFFICIAL (APPOINTED/ELECTED)'].head()"
   ]
  },
  {
   "cell_type": "code",
   "execution_count": 9,
   "id": "6993b8f4-9232-4ad5-a9cc-7f0fa712e17a",
   "metadata": {
    "tags": []
   },
   "outputs": [],
   "source": [
    "import pandas as pd\n",
    "import numpy as np\n",
    "from sklearn.base import BaseEstimator, TransformerMixin\n",
    "\n",
    "class NatureOfWorkTransformer(BaseEstimator, TransformerMixin):\n",
    "    def __init__(self):\n",
    "        # Define the mapping dictionary\n",
    "        self.mapping = {\n",
    "            'Admin/Clerical Staff/Officer': 'missing',\n",
    "            'Architect/Interior Decorator': 'Licensed Professional - Others',\n",
    "            'Bank Employee': 'missing',\n",
    "            'Broker/Dealer': 'Broker/Dealer',\n",
    "            'Call Center Agent/Tele Marketer': 'missing',\n",
    "            'Cashier/Food Server/Waiter': 'missing',\n",
    "            'Consultant': 'missing',\n",
    "            'Doctor/Dentist/Medical Professional': 'Licensed Professional - Others',\n",
    "            'Engineer': 'Licensed Professional - Others',\n",
    "            'Entertainer/Artist': 'missing',\n",
    "            'Foreign Ambassador/Diplomat': 'missing',\n",
    "            'Govt Employee': 'Govt Employee',\n",
    "            'Insurance Agent/Financial Advisor': 'missing',\n",
    "            'IT Professional': 'missing',\n",
    "            'Lawyer': 'Licensed Professional - Lawyer',\n",
    "            'Military/Armed Forces/Police/Navy/Airforce': 'Government - Uniformed Service',\n",
    "            'Newscaster/Media Personality': 'missing',\n",
    "            'Pilot/Airline Crew': 'missing',\n",
    "            'Seafarer': 'missing',\n",
    "            'Teacher/Instructor/Coach': 'missing',\n",
    "            'Utility Personnel/Household Help': 'missing',\n",
    "            'Accountant/Auditor': 'Licensed Professional - Accountant ',\n",
    "            'Utilities (Electricity, Gas and Water)': 'missing',\n",
    "            'Wholesale and Retail Trade': 'missing',\n",
    "            'Sales/Marketing Personnel': 'Sales/Marketing Personnel',\n",
    "            'Other Professional services': 'Licensed Professional - Others',\n",
    "            'Other Non Professional Services': 'missing',\n",
    "            'Owner': 'Owner',\n",
    "            'Religious Leader': 'Religious Leader',\n",
    "            'Fire Fighter': 'Government - Uniformed Service',\n",
    "            'Farmer/Fisherman': 'missing',\n",
    "            'Debt Collection/Recovery Agents/ Collection Agency Employee': 'Debt Collection/Recovery Agents/ Collection Agency Employee',\n",
    "            'Court Personnel/Bailiff': 'Court Personnel/Bailiff',\n",
    "            'Store/Service Manager': 'Manager/Executive',\n",
    "            'Sales Marketing Professional': 'Sales/Marketing Personnel',\n",
    "            'Barber / Beauty Salon': 'Sales/Marketing Personnel',\n",
    "            'Business Owner (MSME)': 'Owner',\n",
    "            'Delivery Rider/Driver': 'Delivery Rider/Driver',\n",
    "            'Manpower Agency': 'missing',\n",
    "            'Online Freelancing / Virtual Assistant / Online teacher': 'Virtual/Online/Remote Employee',\n",
    "            'Online Seller': 'Virtual/Online/Remote Employee',\n",
    "            'Real Estate agent': 'missing',\n",
    "            'Skilled Worker': 'Skilled Worker',\n",
    "            'Technician (Cellphone / Laptop)': 'missing',\n",
    "            'Vendor (Sari-Sari store, Wet market, etc)': 'missing',\n",
    "            'Staff/Rank and File': 'Staff/Rank and File',\n",
    "            'Officer/Supervisor ': 'Officer/Supervisor ',\n",
    "            'Manager/Executive': 'Manager/Executive',\n",
    "            'Licensed Professional - Lawyer': 'Licensed Professional - Lawyer',\n",
    "            'Licensed Professional - Accountant ': 'Licensed Professional - Accountant ',\n",
    "            'Licensed Professional - Others': 'Licensed Professional - Others',\n",
    "            'Religious Minister ': 'Religious Minister ',\n",
    "            'Government - Elected Official ': 'Government - Elected Official ',\n",
    "            'Government - Uniformed Service': 'Government - Uniformed Service',\n",
    "            'Director/Trustee/Stockholder': 'Director/Trustee/Stockholder',\n",
    "            'Virtual/Online/Remote Employee': 'Virtual/Online/Remote Employee',\n",
    "            'Government - Appointed Official': 'Government - Appointed Official'\n",
    "        }\n",
    "        self.output_format = \"default\"  # Default output format\n",
    "        self.feature_names = None  # Placeholder for feature names\n",
    "\n",
    "    def fit(self, X, y=None):\n",
    "        # No fitting required for this transformer\n",
    "        return self\n",
    "\n",
    "    def transform(self, X):\n",
    "        # Ensure X is a DataFrame\n",
    "        X = X.copy()\n",
    "\n",
    "        # Apply the mapping\n",
    "        X['nature_of_work_new'] = X['nature_of_work'].map(self.mapping)\n",
    "\n",
    "        # Handle the special case for 'Govt Official (Appointed/Elected)'\n",
    "        def assign_govt_official():\n",
    "            return np.random.choice(\n",
    "                ['Government - Appointed Official', 'Government - Elected Official'],\n",
    "                p=[0.9, 0.1]\n",
    "            )\n",
    "\n",
    "        X.loc[X['nature_of_work'] == 'Govt Official (Appointed/Elected)', 'nature_of_work_new'] = X.loc[\n",
    "            X['nature_of_work'] == 'Govt Official (Appointed/Elected)'\n",
    "        ].apply(lambda x: assign_govt_official(), axis=1)\n",
    "\n",
    "        # Store feature names for get_feature_names_out\n",
    "        self.feature_names = X.columns.tolist()\n",
    "\n",
    "        # Set output format\n",
    "        if self.output_format == \"pandas\":\n",
    "            return X\n",
    "        else:\n",
    "            return X.values  # Return as NumPy array by default\n",
    "\n",
    "    def get_feature_names_out(self, input_features=None):\n",
    "        \"\"\"\n",
    "        Get the output feature names for transformation.\n",
    "        \"\"\"\n",
    "        if self.feature_names is None:\n",
    "            raise ValueError(\"Transformer has not been fitted yet.\")\n",
    "        return self.feature_names\n",
    "\n",
    "    def set_output(self, transform=\"default\"):\n",
    "        \"\"\"\n",
    "        Set the output format of the transformer.\n",
    "        Options: \"default\" (NumPy array) or \"pandas\" (Pandas DataFrame).\n",
    "        \"\"\"\n",
    "        if transform not in [\"default\", \"pandas\"]:\n",
    "            raise ValueError(\"Output format must be 'default' or 'pandas'.\")\n",
    "        self.output_format = transform\n",
    "        return self"
   ]
  },
  {
   "cell_type": "code",
   "execution_count": 10,
   "id": "f30fb6a8-7959-4708-a2fa-aa9021c7558f",
   "metadata": {
    "tags": []
   },
   "outputs": [
    {
     "name": "stdout",
     "output_type": "stream",
     "text": [
      "[['Admin/Clerical Staff/Officer' 'missing']\n",
      " ['Architect/Interior Decorator' 'Licensed Professional - Others']\n",
      " ['Bank Employee' 'missing']\n",
      " ['Govt Official (Appointed/Elected)' 'Government - Appointed Official']\n",
      " ['Lawyer' 'Licensed Professional - Lawyer']\n",
      " ['Military/Armed Forces/Police/Navy/Airforce'\n",
      "  'Government - Uniformed Service']]\n"
     ]
    }
   ],
   "source": [
    "# Example how to use it\n",
    "\n",
    "# Sample DataFrame\n",
    "data = {\n",
    "    'nature_of_work': [\n",
    "        'Admin/Clerical Staff/Officer', 'Architect/Interior Decorator', 'Bank Employee',\n",
    "        'Govt Official (Appointed/Elected)', 'Lawyer', 'Military/Armed Forces/Police/Navy/Airforce'\n",
    "    ]\n",
    "}\n",
    "dfd = pd.DataFrame(data)\n",
    "\n",
    "# Initialize the transformer\n",
    "transformer = NatureOfWorkTransformer()\n",
    "\n",
    "# Apply the transformer to the DataFrame\n",
    "df_transformed = transformer.transform(dfd)\n",
    "\n",
    "# Display the transformed DataFrame\n",
    "print(df_transformed)"
   ]
  },
  {
   "cell_type": "code",
   "execution_count": 11,
   "id": "c1865ae9-364d-4a50-b30d-69aabb530d37",
   "metadata": {
    "tags": []
   },
   "outputs": [],
   "source": [
    "df[['digitalLoanAccountId', 'nature_of_work', 'nature_of_work_new']].to_csv(\"Nature_of_work_mapping.csv\", index = False)"
   ]
  },
  {
   "cell_type": "markdown",
   "id": "f89f2c7e-39fc-42a0-80e1-a795b15a920e",
   "metadata": {},
   "source": [
    "# industry_description"
   ]
  },
  {
   "cell_type": "code",
   "execution_count": 12,
   "id": "ab394fc2-28a7-42b6-852a-db3330eaae7c",
   "metadata": {
    "tags": []
   },
   "outputs": [
    {
     "data": {
      "text/plain": [
       "industry_description                         industry_description_new                             \n",
       "Accounting/Bookkeeping                       Accounting/Bookkeeping/Auditing                           12421\n",
       "Advertising/Sales/Marketing                  Advertising/Sales/Marketing                               27861\n",
       "Agribusiness/Animal Farming/Fishing          Agribusiness/Animal Farming/Fishing                       11956\n",
       "Airline/Aviation                             Airline/Aviation                                           1864\n",
       "Architecture/Engineering                     Architecture/Engineering                                   6873\n",
       "Banking                                      Banking                                                   19428\n",
       "Beauty and Health Services                   Beauty and Health Services                                15513\n",
       "Business Process Outsourcing/Tele Marketing  Business Process Outsourcing/Tele Marketing              115421\n",
       "Computer/IT Related Services                 Computer/IT Related Services                              31957\n",
       "Construction                                 Construction                                              33968\n",
       "Convenience Store/Internet Cafe's            Convenience Store/Internet Cafe's                         12472\n",
       "Education/Schools                            Education/Private Schools                                 31253\n",
       "Embassy                                      missing                                                     476\n",
       "Entertainment and Media                      Recreation (Arts, Entertainment/Media, Sports)             6715\n",
       "FX Dealer/Money Changer                      FX Dealer/Money Changer                                     185\n",
       "Fin Tech/Financial Services                  Fin Tech/Financial Services                                8886\n",
       "Food Industry/Restaurants/Fastfoods          Food Industry/Restaurants/Fastfoods                       63123\n",
       "Freight and Cargo                            Freight and Cargo                                          7018\n",
       "Gold, Jewelry and Precious Metals            Gold/Jewelry/Precious Metals/Art/Antique Dealership        1452\n",
       "Govt. Institution                            Govt. Institution                                         55643\n",
       "Hospital and Medical Services                Hospital and Medical Services                             24931\n",
       "Insurance Activities                         Insurance Activities                                       4995\n",
       "Leasing and Rental Services                  missing                                                    4548\n",
       "Legal Service/Law Firm                       Legal Service/Law Firm                                     1820\n",
       "Manpower/Manning Agencies                    Manpower/Manning Agencies                                 15902\n",
       "Manufacturing - Food                         Manufacturing                                             17921\n",
       "Manufacturing - Non Food                     Manufacturing                                             43919\n",
       "Maritime/Shipping                            Maritime/Shipping                                          6645\n",
       "Military and Weaponry Business               Military and Weaponry Business                               21\n",
       "Non Government Organization/Foundation       NGOs/NonProfit Organization/Foundation                     2494\n",
       "Online Gaming/Lottery/Casino                 Gambling and Betting (Online Gaming, Lottery, Casino)      3713\n",
       "Others                                       Others                                                   127471\n",
       "Pawnshop/Remittance Agent/Virtual Currency   Pawnshop/Remittance Agent/Virtual Currency                 1397\n",
       "Publishing and Printing                      missing                                                     751\n",
       "Real Estate                                  Real Estate                                                5963\n",
       "Recycling                                    missing                                                     184\n",
       "Religious Organization                       Religious Organization                                      296\n",
       "Telecommunication                            Telecommunication                                          8571\n",
       "Tourism, Hotel and Resorts                   Tourism, Hotel and Resorts                                 7169\n",
       "Transportation                               Transportation                                            32195\n",
       "Utilities (Electricity, Gas and Water)       Utilities (Electricity, Gas and Water)                     6984\n",
       "Wholesale and Retail Trade                   Wholesale and Retail Trade                                95799\n",
       "Name: digitalLoanAccountId, dtype: int64"
      ]
     },
     "execution_count": 12,
     "metadata": {},
     "output_type": "execute_result"
    }
   ],
   "source": [
    "# Mapping dictionary\n",
    "mapping = {\n",
    "    'Accounting/Bookkeeping': 'Accounting/Bookkeeping/Auditing',\n",
    "    'Advertising/Sales/Marketing': 'Advertising/Sales/Marketing',\n",
    "    'Agribusiness/Animal Farming/Fishing': 'Agribusiness/Animal Farming/Fishing',\n",
    "    'Airline/Aviation': 'Airline/Aviation',\n",
    "    'Architecture/Engineering': 'Architecture/Engineering',\n",
    "    'Banking': 'Banking',\n",
    "    'Beauty and Health Services': 'Beauty and Health Services',\n",
    "    'Business Process Outsourcing/Tele Marketing': 'Business Process Outsourcing/Tele Marketing',\n",
    "    'Car/Boat/Plane/Used Truck/AutoParts Manufacturing/Dealership or Auction Houses': 'Car/Boat/Plane/Used Truck/AutoParts Manufacturing/Dealership or Auction Houses',\n",
    "    'Computer/IT Related Services': 'Computer/IT Related Services',\n",
    "    'Construction': 'Construction',\n",
    "    \"Convenience Store/Internet Cafe's\": \"Convenience Store/Internet Cafe's\",\n",
    "    'Designated NonFinancial Businesses': 'Designated NonFinancial Businesses',\n",
    "    'Education/Schools': 'Education/Private Schools',\n",
    "    '': '',\n",
    "    'Fin Tech/Financial Services': 'Fin Tech/Financial Services',\n",
    "    'Food Industry/Restaurants/Fastfoods': 'Food Industry/Restaurants/Fastfoods',\n",
    "    'Freight and Cargo': 'Freight and Cargo',\n",
    "    'FX Dealer/Money Changer': 'FX Dealer/Money Changer',\n",
    "    'Online Gaming/Lottery/Casino': 'Gambling and Betting (Online Gaming, Lottery, Casino)',\n",
    "    'Gold, Jewelry and Precious Metals': 'Gold/Jewelry/Precious Metals/Art/Antique Dealership',\n",
    "    'Govt. Institution': 'Govt. Institution',\n",
    "    'Hospital and Medical Services': 'Hospital and Medical Services',\n",
    "    'Repair, Sanitation and Housekeeping': 'Housekeeping/Sanitation Services',\n",
    "    'Import Export Companies': 'Import Export Companies',\n",
    "    'Insurance Activities': 'Insurance Activities',\n",
    "    'Legal Service/Law Firm': 'Legal Service/Law Firm',\n",
    "    'Manpower/Manning Agencies': 'Manpower/Manning Agencies',\n",
    "    'Manufacturing - Food': 'Manufacturing',\n",
    "    'Manufacturing - Non Food': 'Manufacturing',\n",
    "    'Maritime/Shipping': 'Maritime/Shipping',\n",
    "    'Military and Weaponry Business': 'Military and Weaponry Business',\n",
    "    '': 'Mining and Quarrying',\n",
    "    'Non Government Organization/Foundation': 'NGOs/NonProfit Organization/Foundation',\n",
    "    'NGOs/NonProfit Organization/Foundation': 'NGOs/NonProfit Organization/Foundation',\n",
    "    'Nightclubs/Discos/Karaoke Center': 'Nightclubs/Discos/Karaoke Center',\n",
    "    'Others': 'Others',\n",
    "    'Pawnshop/Remittance Agent/Virtual Currency': 'Pawnshop/Remittance Agent/Virtual Currency',\n",
    "    'Real Estate': 'Real Estate',\n",
    "    'Entertainment and Media': 'Recreation (Arts, Entertainment/Media, Sports)',\n",
    "    'Religious Organization': 'Religious Organization',\n",
    "    '': 'Securities/Holding Companies',\n",
    "    'Telecommunication': 'Telecommunication',\n",
    "    'Tourism, Hotel and Resorts': 'Tourism, Hotel and Resorts',\n",
    "    'Transportation': 'Transportation',\n",
    "    'Utilities (Electricity, Gas and Water)': 'Utilities (Electricity, Gas and Water)',\n",
    "    'Wholesale and Retail Trade': 'Wholesale and Retail Trade',\n",
    "    'Publishing and Printing': 'missing',\n",
    "    'Recycling': 'missing',\n",
    "    'Embassy': 'missing',\n",
    "    'Leasing and Rental Services': 'missing'\n",
    "}\n",
    "\n",
    "# Apply the mapping to create the new column\n",
    "df['industry_description_new'] = df['industry_description'].map(mapping)\n",
    "\n",
    "# Display the DataFrame\n",
    "df.groupby(['industry_description', 'industry_description_new'])['digitalLoanAccountId'].nunique()"
   ]
  },
  {
   "cell_type": "code",
   "execution_count": 13,
   "id": "5b3a1736-f0ed-4a17-a5ef-3b31ea0a1ed3",
   "metadata": {
    "tags": []
   },
   "outputs": [
    {
     "data": {
      "text/html": [
       "<div>\n",
       "<style scoped>\n",
       "    .dataframe tbody tr th:only-of-type {\n",
       "        vertical-align: middle;\n",
       "    }\n",
       "\n",
       "    .dataframe tbody tr th {\n",
       "        vertical-align: top;\n",
       "    }\n",
       "\n",
       "    .dataframe thead th {\n",
       "        text-align: right;\n",
       "    }\n",
       "</style>\n",
       "<table border=\"1\" class=\"dataframe\">\n",
       "  <thead>\n",
       "    <tr style=\"text-align: right;\">\n",
       "      <th></th>\n",
       "      <th>digitalLoanAccountId</th>\n",
       "      <th>nature_of_work</th>\n",
       "      <th>industry_description</th>\n",
       "      <th>employment_type</th>\n",
       "      <th>source_funds</th>\n",
       "      <th>nature_of_work_new</th>\n",
       "      <th>industry_description_new</th>\n",
       "    </tr>\n",
       "  </thead>\n",
       "  <tbody>\n",
       "    <tr>\n",
       "      <th>0</th>\n",
       "      <td>2da28348-214c-4a16-ab18-3aa3212103e5</td>\n",
       "      <td>Debt Collection/Recovery Agents/ Collection Ag...</td>\n",
       "      <td>Others</td>\n",
       "      <td>Employed</td>\n",
       "      <td>Salary</td>\n",
       "      <td>Debt Collection/Recovery Agents/ Collection Ag...</td>\n",
       "      <td>Others</td>\n",
       "    </tr>\n",
       "    <tr>\n",
       "      <th>1</th>\n",
       "      <td>27ebbaa8-8e29-4290-bff8-094e3c36e2a3</td>\n",
       "      <td>Pilot/Airline Crew</td>\n",
       "      <td>Airline/Aviation</td>\n",
       "      <td>Employed</td>\n",
       "      <td>Salary</td>\n",
       "      <td>missing</td>\n",
       "      <td>Airline/Aviation</td>\n",
       "    </tr>\n",
       "    <tr>\n",
       "      <th>2</th>\n",
       "      <td>3cd55c88-1734-4f83-a98f-3657e88dfa06</td>\n",
       "      <td>Broker/Dealer</td>\n",
       "      <td>Others</td>\n",
       "      <td>Employed</td>\n",
       "      <td>Salary</td>\n",
       "      <td>Broker/Dealer</td>\n",
       "      <td>Others</td>\n",
       "    </tr>\n",
       "    <tr>\n",
       "      <th>3</th>\n",
       "      <td>a404dc36-481a-401d-a14b-509d35022896</td>\n",
       "      <td>Lawyer</td>\n",
       "      <td>Utilities (Electricity, Gas and Water)</td>\n",
       "      <td>Employed</td>\n",
       "      <td>Salary</td>\n",
       "      <td>Licensed Professional - Lawyer</td>\n",
       "      <td>Utilities (Electricity, Gas and Water)</td>\n",
       "    </tr>\n",
       "    <tr>\n",
       "      <th>4</th>\n",
       "      <td>7d45e1cd-a7cb-45cd-9400-1b5956be1b40</td>\n",
       "      <td>Lawyer</td>\n",
       "      <td>Utilities (Electricity, Gas and Water)</td>\n",
       "      <td>Employed</td>\n",
       "      <td>Salary</td>\n",
       "      <td>Licensed Professional - Lawyer</td>\n",
       "      <td>Utilities (Electricity, Gas and Water)</td>\n",
       "    </tr>\n",
       "  </tbody>\n",
       "</table>\n",
       "</div>"
      ],
      "text/plain": [
       "                   digitalLoanAccountId  \\\n",
       "0  2da28348-214c-4a16-ab18-3aa3212103e5   \n",
       "1  27ebbaa8-8e29-4290-bff8-094e3c36e2a3   \n",
       "2  3cd55c88-1734-4f83-a98f-3657e88dfa06   \n",
       "3  a404dc36-481a-401d-a14b-509d35022896   \n",
       "4  7d45e1cd-a7cb-45cd-9400-1b5956be1b40   \n",
       "\n",
       "                                      nature_of_work  \\\n",
       "0  Debt Collection/Recovery Agents/ Collection Ag...   \n",
       "1                                 Pilot/Airline Crew   \n",
       "2                                      Broker/Dealer   \n",
       "3                                             Lawyer   \n",
       "4                                             Lawyer   \n",
       "\n",
       "                     industry_description employment_type source_funds  \\\n",
       "0                                  Others        Employed       Salary   \n",
       "1                        Airline/Aviation        Employed       Salary   \n",
       "2                                  Others        Employed       Salary   \n",
       "3  Utilities (Electricity, Gas and Water)        Employed       Salary   \n",
       "4  Utilities (Electricity, Gas and Water)        Employed       Salary   \n",
       "\n",
       "                                  nature_of_work_new  \\\n",
       "0  Debt Collection/Recovery Agents/ Collection Ag...   \n",
       "1                                            missing   \n",
       "2                                      Broker/Dealer   \n",
       "3                     Licensed Professional - Lawyer   \n",
       "4                     Licensed Professional - Lawyer   \n",
       "\n",
       "                 industry_description_new  \n",
       "0                                  Others  \n",
       "1                        Airline/Aviation  \n",
       "2                                  Others  \n",
       "3  Utilities (Electricity, Gas and Water)  \n",
       "4  Utilities (Electricity, Gas and Water)  "
      ]
     },
     "execution_count": 13,
     "metadata": {},
     "output_type": "execute_result"
    }
   ],
   "source": [
    "df.head()"
   ]
  },
  {
   "cell_type": "code",
   "execution_count": 14,
   "id": "9161de40-9f59-4eb8-bd4e-7bd325f4ea86",
   "metadata": {
    "tags": []
   },
   "outputs": [],
   "source": [
    "df[['digitalLoanAccountId', 'industry_description', 'industry_description_new']].to_csv(\"Natureofwork_industry_descriptionMappingwithnewlov.csv\", index = False)"
   ]
  },
  {
   "cell_type": "markdown",
   "id": "2b6d5087-f77f-477f-b593-9eae12f23acb",
   "metadata": {
    "tags": []
   },
   "source": [
    "# source_funds"
   ]
  },
  {
   "cell_type": "code",
   "execution_count": 15,
   "id": "f57f50ce-97da-49fd-a7e3-fc25a21fe14d",
   "metadata": {
    "tags": []
   },
   "outputs": [
    {
     "data": {
      "text/plain": [
       "source_funds                          source_funds_new                    \n",
       "Allowance                             Allowance                                58079\n",
       "Commissions                           missing                                  12575\n",
       "Income from Business                  Income from Business                    136341\n",
       "Inheritance/Retirement Funds          Inheritance/Retirement Funds              1487\n",
       "Interest on Deposits and Investments  Interest on Deposits and Investments      1579\n",
       "Others                                missing                                  35947\n",
       "Pension                               Pension                                   2216\n",
       "Remittance                            Remittance                               66807\n",
       "Salary                                Salary                                  702252\n",
       "Name: digitalLoanAccountId, dtype: int64"
      ]
     },
     "execution_count": 15,
     "metadata": {},
     "output_type": "execute_result"
    }
   ],
   "source": [
    "# Mapping dictionary\n",
    "mapping = {\n",
    "    'Salary': 'Salary ',\n",
    "    'Allowance': 'Allowance ',\n",
    "    'Commissions': 'missing',  # Make it empty or null\n",
    "    'Income from Business': 'Income from Business ',\n",
    "    'Inheritance/Retirement Funds': 'Inheritance/Retirement Funds',\n",
    "    'Interest on Deposits and Investments': 'Interest on Deposits and Investments',\n",
    "    'Pension': 'Pension ',\n",
    "    'Remittance': 'Remittance ',\n",
    "    'Others': 'missing',\n",
    "    'Donations': 'Donations '\n",
    "}\n",
    "\n",
    "# Apply the mapping to create the new column\n",
    "df['source_funds_new'] = df['source_funds'].map(mapping)\n",
    "# Display the DataFrame\n",
    "df.groupby(['source_funds', 'source_funds_new'])['digitalLoanAccountId'].nunique()"
   ]
  },
  {
   "cell_type": "code",
   "execution_count": 16,
   "id": "6c70bcc8-90a8-4dad-8f0e-58e896665b6e",
   "metadata": {
    "tags": []
   },
   "outputs": [],
   "source": [
    "df[['digitalLoanAccountId', 'source_funds', 'source_funds_new']].to_csv(r\"Source_fund_mapping.csv\", index = False)"
   ]
  },
  {
   "cell_type": "markdown",
   "id": "2e1edcc5-536f-4bd6-96e7-6a8cc4475b2c",
   "metadata": {},
   "source": [
    "# employment_type"
   ]
  },
  {
   "cell_type": "code",
   "execution_count": 17,
   "id": "e0592915-38fa-47fe-b519-5aea863a8422",
   "metadata": {
    "tags": []
   },
   "outputs": [
    {
     "data": {
      "text/plain": [
       "employment_type                 employment_type_new                     \n",
       "Business Owner                  Business Owner                               31554\n",
       "Employed                        Employed - Govt. Employee/Govt. Official    187072\n",
       "                                Employed - Private Employee                 435954\n",
       "Housewife/Househusband          Housewife/Househusband                       17284\n",
       "Overseas Filipino Worker        Overseas Filipino Worker                    124472\n",
       "Remittance Beneficiary          Remittance Beneficiary                       48092\n",
       "Retired - Private Employee      Retired - Private Employee                   32674\n",
       "Self-Employed/Private Practice  Self-Employed/Private Practice              110028\n",
       "Student                         Student                                       2569\n",
       "Unemployed                      Unemployed                                   22926\n",
       "Name: digitalLoanAccountId, dtype: int64"
      ]
     },
     "execution_count": 17,
     "metadata": {},
     "output_type": "execute_result"
    }
   ],
   "source": [
    "# Mapping dictionary\n",
    "mapping = {\n",
    "    'Employed': 'Employed',  # Placeholder, will be handled separately\n",
    "    'Self-Employed/Private Practice': 'Self-Employed/Private Practice',\n",
    "    'Business Owner': 'Business Owner',\n",
    "    'Overseas Filipino Worker': 'Overseas Filipino Worker',\n",
    "    'Unemployed': 'Unemployed',\n",
    "    'Retired - Private Employee': 'Retired - Private Employee',\n",
    "    'Retired Govt. Employee/ Govt. Official': 'Retired Govt. Employee/ Govt. Official',\n",
    "    'Housewife/Househusband': 'Housewife/Househusband',\n",
    "    'Student': 'Student',\n",
    "    'Remittance Beneficiary': 'Remittance Beneficiary',\n",
    "    'Freelancer/Independent Contractor ': 'Freelancer/Independent Contractor ',\n",
    "    'Religious ': 'Religious '\n",
    "}\n",
    "\n",
    "# Apply the mapping to create the new column\n",
    "df['employment_type_new'] = df['employment_type'].map(mapping)\n",
    "\n",
    "# Handle the special case for 'Employed'\n",
    "def assign_employed():\n",
    "    return np.random.choice(\n",
    "        ['Employed - Private Employee', 'Employed - Govt. Employee/Govt. Official'],\n",
    "        p=[0.7, 0.3]\n",
    "    )\n",
    "\n",
    "df.loc[df['employment_type'] == 'Employed', 'employment_type_new'] = df.loc[\n",
    "    df['employment_type'] == 'Employed'\n",
    "].apply(lambda x: assign_employed(), axis=1)\n",
    "\n",
    "# Display the DataFrame\n",
    "df.groupby(['employment_type', 'employment_type_new'])['digitalLoanAccountId'].nunique()"
   ]
  },
  {
   "cell_type": "code",
   "execution_count": 18,
   "id": "7d50aa17-1a52-4ea3-a618-16b0fb6ae15d",
   "metadata": {
    "tags": []
   },
   "outputs": [],
   "source": [
    "df[['digitalLoanAccountId','employment_type', 'employment_type_new']].to_csv(\"Employment_type_mapping.csv\", index = False)"
   ]
  },
  {
   "cell_type": "code",
   "execution_count": 19,
   "id": "7da1f293-b23c-4d9d-9f53-8b38b09291ed",
   "metadata": {
    "tags": []
   },
   "outputs": [],
   "source": [
    "df.to_csv(\"Now_ID_SF_ET_mapping.csv\", index = False)"
   ]
  },
  {
   "cell_type": "code",
   "execution_count": 20,
   "id": "7b41fed4-56b1-4d89-8db6-de6bb5856093",
   "metadata": {
    "tags": []
   },
   "outputs": [],
   "source": [
    "def save_df_to_gcs(df, bucket_name, destination_blob_name, file_format='csv'):\n",
    "    \"\"\"Saves a pandas DataFrame to Google Cloud Storage.\n",
    "\n",
    "    Args:\n",
    "        df: The pandas DataFrame to save.\n",
    "        bucket_name: The name of the GCS bucket.\n",
    "        destination_blob_name: The name of the blob to be created.\n",
    "        file_format: The file format to save the DataFrame in ('csv' or 'parquet').\n",
    "    \"\"\"\n",
    "\n",
    "    # Create a temporary file\n",
    "    if file_format == 'csv':\n",
    "        temp_file = 'temp.csv'\n",
    "        df.to_csv(temp_file, index=False)\n",
    "    elif file_format == 'parquet':\n",
    "        temp_file = 'temp.parquet'\n",
    "        df.to_parquet(temp_file, index=False)\n",
    "    else:\n",
    "        raise ValueError(\"Invalid file format. Please choose 'csv' or 'parquet'.\")\n",
    "\n",
    "    # Upload the file to GCS\n",
    "    storage_client = storage.Client()\n",
    "    bucket = storage_client.bucket(bucket_name)\n",
    "    blob = bucket.blob(destination_blob_name)\n",
    "\n",
    "    blob.upload_from_filename(temp_file)\n",
    "\n",
    "    # Remove the temporary file\n",
    "    import os\n",
    "    os.remove(temp_file)\n",
    "    \n"
   ]
  },
  {
   "cell_type": "code",
   "execution_count": 21,
   "id": "176442f6-995b-4ed3-9883-2460b59f7697",
   "metadata": {
    "tags": []
   },
   "outputs": [
    {
     "name": "stdout",
     "output_type": "stream",
     "text": [
      "20250122_Now_ID_SF_ET_mapping.csv\n"
     ]
    }
   ],
   "source": [
    "from datetime import datetime\n",
    "current_date = datetime.now().strftime(\"%Y%m%d\")\n",
    "BUCKET_NAME = \"prod-asia-southeast1-tonik-aiml-workspace\"\n",
    "filename = 'Now_ID_SF_ET_mapping'\n",
    "CLOUDPATH = \"Monthly_Income_Estimation\"\n",
    "bucket_name = BUCKET_NAME\n",
    "new_filename = f\"{current_date}_{filename}.csv\"\n",
    "print(new_filename)\n",
    "destination_blob_name = f\"{CLOUDPATH}/{new_filename}\"\n",
    "save_df_to_gcs(df, bucket_name, destination_blob_name)"
   ]
  },
  {
   "cell_type": "code",
   "execution_count": null,
   "id": "41ed12fd-62f8-43ba-ab78-61b253215473",
   "metadata": {},
   "outputs": [],
   "source": []
  },
  {
   "cell_type": "code",
   "execution_count": null,
   "id": "902f971a-08b2-4b91-bc27-5110399a7a14",
   "metadata": {},
   "outputs": [],
   "source": []
  },
  {
   "cell_type": "code",
   "execution_count": null,
   "id": "84480330-4f27-4c22-9970-ee5cf8a72be5",
   "metadata": {},
   "outputs": [],
   "source": []
  }
 ],
 "metadata": {
  "environment": {
   "kernel": "incomeestimation_env",
   "name": "workbench-notebooks.m125",
   "type": "gcloud",
   "uri": "us-docker.pkg.dev/deeplearning-platform-release/gcr.io/workbench-notebooks:m125"
  },
  "kernelspec": {
   "display_name": "IncomeEstimation_env",
   "language": "python",
   "name": "incomeestimation_env"
  },
  "language_info": {
   "codemirror_mode": {
    "name": "ipython",
    "version": 3
   },
   "file_extension": ".py",
   "mimetype": "text/x-python",
   "name": "python",
   "nbconvert_exporter": "python",
   "pygments_lexer": "ipython3",
   "version": "3.10.16"
  }
 },
 "nbformat": 4,
 "nbformat_minor": 5
}
